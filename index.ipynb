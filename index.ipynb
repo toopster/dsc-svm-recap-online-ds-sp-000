{
 "cells": [
  {
   "cell_type": "markdown",
   "metadata": {},
   "source": [
    "# Support Vector Machines - Recap\n",
    "\n",
    "## Introduction\n",
    "\n",
    "As you saw, support vector machines are another classification tool to add to your repertoire. While computationally expensive, they can be powerful tools providing substantial performance gains in many instances.\n",
    "\n",
    "\n",
    "## Kernel Functions\n",
    "\n",
    "Probably the most important information worth reviewing is some of the various kernel functions that you can apply:\n",
    "\n",
    "1. Radial Basis Function (RBF)\n",
    "    1. `c`\n",
    "    2. $\\gamma$, which can be specified using `gamma` in scikit-learn\n",
    "2. Polynomial Kernel\n",
    "    1. $\\gamma$, which can be specified using `gamma` in scikit-learn\n",
    "    2. $r$, which can be specified using `coef0` in scikit-learn\n",
    "    3. $d$, which can be specified using `degree` in scikit-learn\n",
    "3. Sigmoid Kernel\n",
    "    1. $\\gamma$, which can be specified using `gamma` in scikit-learn\n",
    "    2. $r$, which can be specified using `coef0` in scikit-learn\n",
    "\n",
    "Also recall that in general, `c` is the parameter for balancing standard accuracy metrics for tuning classifiers with the decision boundary distance.\n",
    "\n",
    "## Summary\n",
    "\n",
    "While it may appear that this section was a bit brief, Support Vector Machines are a powerful algorithm that deserve attention, so make sure you investigate them properly. Moreover, learning to properly tune SVMs using kernels and an appropriate `c` value is critical."
   ]
  }
 ],
 "metadata": {
  "kernelspec": {
   "display_name": "Python 3",
   "language": "python",
   "name": "python3"
  },
  "language_info": {
   "codemirror_mode": {
    "name": "ipython",
    "version": 3
   },
   "file_extension": ".py",
   "mimetype": "text/x-python",
   "name": "python",
   "nbconvert_exporter": "python",
   "pygments_lexer": "ipython3",
   "version": "3.6.9"
  }
 },
 "nbformat": 4,
 "nbformat_minor": 2
}
